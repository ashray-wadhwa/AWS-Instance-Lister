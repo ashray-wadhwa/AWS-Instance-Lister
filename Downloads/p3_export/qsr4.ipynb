{
 "cells": [
  {
   "cell_type": "code",
   "execution_count": 1,
   "metadata": {},
   "outputs": [],
   "source": [
    "import softmax"
   ]
  },
  {
   "cell_type": "code",
   "execution_count": 2,
   "metadata": {},
   "outputs": [],
   "source": [
    "import runClassifier as rcr"
   ]
  },
  {
   "cell_type": "code",
   "execution_count": 3,
   "metadata": {},
   "outputs": [],
   "source": [
    "from matplotlib import pyplot as plt"
   ]
  },
  {
   "cell_type": "code",
   "execution_count": 4,
   "metadata": {},
   "outputs": [],
   "source": [
    "import utils"
   ]
  },
  {
   "cell_type": "code",
   "execution_count": 7,
   "metadata": {},
   "outputs": [
    {
     "name": "stdout",
     "output_type": "stream",
     "text": [
      "60000\n",
      "16\n",
      "1\n",
      "(784, 2)\n",
      "(2,)\n",
      "Training classifier on 2 points...\n",
      "Training accuracy 1, test accuracy 0.1139\n",
      "2\n",
      "(784, 4)\n",
      "(4,)\n",
      "Training classifier on 4 points...\n",
      "Training accuracy 1, test accuracy 0.1437\n",
      "3\n",
      "(784, 8)\n",
      "(8,)\n",
      "Training classifier on 8 points...\n",
      "Training accuracy 1, test accuracy 0.2692\n",
      "4\n",
      "(784, 15)\n",
      "(15,)\n",
      "Training classifier on 15 points...\n",
      "Training accuracy 1, test accuracy 0.3502\n",
      "5\n"
     ]
    },
    {
     "name": "stderr",
     "output_type": "stream",
     "text": [
      "/home/jovyan/work/p3/softmax.py:99: RuntimeWarning: invalid value encountered in true_divide\n",
      "  probabilities = np.exp(W_X)/sumExp\n",
      "/home/jovyan/work/p3/softmax.py:117: RuntimeWarning: divide by zero encountered in log\n",
      "  cost = (np.sum(-1*indicator*np.log(probabilities), axis=None))/N\n",
      "/home/jovyan/work/p3/softmax.py:117: RuntimeWarning: invalid value encountered in multiply\n",
      "  cost = (np.sum(-1*indicator*np.log(probabilities), axis=None))/N\n"
     ]
    },
    {
     "name": "stdout",
     "output_type": "stream",
     "text": [
      "(784, 30)\n",
      "(30,)\n",
      "Training classifier on 30 points...\n",
      "Training accuracy 1, test accuracy 0.4004\n",
      "6\n",
      "(784, 59)\n",
      "(59,)\n",
      "Training classifier on 59 points...\n",
      "Training accuracy 1, test accuracy 0.5819\n",
      "7\n",
      "(784, 118)\n",
      "(118,)\n",
      "Training classifier on 118 points...\n",
      "Training accuracy 1, test accuracy 0.7018\n",
      "8\n",
      "(784, 235)\n",
      "(235,)\n",
      "Training classifier on 235 points...\n",
      "Training accuracy 1, test accuracy 0.793\n",
      "9\n",
      "(784, 469)\n",
      "(469,)\n",
      "Training classifier on 469 points...\n",
      "Training accuracy 1, test accuracy 0.815\n",
      "10\n",
      "(784, 938)\n",
      "(938,)\n",
      "Training classifier on 938 points...\n",
      "Training accuracy 1, test accuracy 0.843\n",
      "11\n",
      "(784, 1875)\n",
      "(1875,)\n",
      "Training classifier on 1875 points...\n",
      "Training accuracy 1, test accuracy 0.8586\n",
      "12\n",
      "(784, 3750)\n",
      "(3750,)\n",
      "Training classifier on 3750 points...\n",
      "Training accuracy 1, test accuracy 0.8457\n",
      "13\n",
      "(784, 7500)\n",
      "(7500,)\n",
      "Training classifier on 7500 points...\n",
      "Training accuracy 1, test accuracy 0.8494\n",
      "14\n",
      "(784, 15000)\n",
      "(15000,)\n",
      "Training classifier on 15000 points...\n",
      "Training accuracy 0.976267, test accuracy 0.859\n",
      "15\n",
      "(784, 30000)\n",
      "(30000,)\n",
      "Training classifier on 30000 points...\n",
      "Training accuracy 0.9385, test accuracy 0.8827\n",
      "16\n",
      "(784, 60000)\n",
      "(60000,)\n",
      "Training classifier on 60000 points...\n",
      "Training accuracy 0.93785, test accuracy 0.9165\n"
     ]
    },
    {
     "data": {
      "text/plain": [
       "(array([2.000e+00, 4.000e+00, 8.000e+00, 1.500e+01, 3.000e+01, 5.900e+01,\n",
       "        1.180e+02, 2.350e+02, 4.690e+02, 9.380e+02, 1.875e+03, 3.750e+03,\n",
       "        7.500e+03, 1.500e+04, 3.000e+04, 6.000e+04]),\n",
       " array([1.        , 1.        , 1.        , 1.        , 1.        ,\n",
       "        1.        , 1.        , 1.        , 1.        , 1.        ,\n",
       "        1.        , 1.        , 1.        , 0.97626667, 0.9385    ,\n",
       "        0.93785   ]),\n",
       " array([0.1139, 0.1437, 0.2692, 0.3502, 0.4004, 0.5819, 0.7018, 0.793 ,\n",
       "        0.815 , 0.843 , 0.8586, 0.8457, 0.8494, 0.859 , 0.8827, 0.9165]))"
      ]
     },
     "execution_count": 7,
     "metadata": {},
     "output_type": "execute_result"
    }
   ],
   "source": [
    "# MNIST images are 28 * 28\n",
    "exSize = 28*28\n",
    "# 10 digits\n",
    "numClasses = 10\n",
    "# Regularizer coefficient\n",
    "reg = 0.0001\n",
    "\n",
    "\n",
    "X, Y = utils.loadMNIST('data/train-images.idx3-ubyte', 'data/train-labels.idx1-ubyte')\n",
    "testX, testY = utils.loadMNIST('data/t10k-images.idx3-ubyte', 'data/t10k-labels.idx1-ubyte')\n",
    "sm = softmax.SoftmaxRegression(numClasses, exSize)\n",
    "output = rcr.learningCurve(sm, numClasses, exSize, X, Y, testX, testY)\n",
    "output\n",
    "\n",
    "X_axis = out"
   ]
  },
  {
   "cell_type": "markdown",
   "metadata": {},
   "source": []
  },
  {
   "cell_type": "code",
   "execution_count": 8,
   "metadata": {},
   "outputs": [],
   "source": [
    "(data_set, train, test) = output"
   ]
  },
  {
   "cell_type": "code",
   "execution_count": 9,
   "metadata": {},
   "outputs": [
    {
     "data": {
      "text/plain": [
       "array([2.000e+00, 4.000e+00, 8.000e+00, 1.500e+01, 3.000e+01, 5.900e+01,\n",
       "       1.180e+02, 2.350e+02, 4.690e+02, 9.380e+02, 1.875e+03, 3.750e+03,\n",
       "       7.500e+03, 1.500e+04, 3.000e+04, 6.000e+04])"
      ]
     },
     "execution_count": 9,
     "metadata": {},
     "output_type": "execute_result"
    }
   ],
   "source": [
    "data_set"
   ]
  },
  {
   "cell_type": "code",
   "execution_count": 10,
   "metadata": {},
   "outputs": [
    {
     "data": {
      "text/plain": [
       "array([0.1139, 0.1437, 0.2692, 0.3502, 0.4004, 0.5819, 0.7018, 0.793 ,\n",
       "       0.815 , 0.843 , 0.8586, 0.8457, 0.8494, 0.859 , 0.8827, 0.9165])"
      ]
     },
     "execution_count": 10,
     "metadata": {},
     "output_type": "execute_result"
    }
   ],
   "source": [
    "test"
   ]
  },
  {
   "cell_type": "code",
   "execution_count": 21,
   "metadata": {},
   "outputs": [
    {
     "data": {
      "text/plain": [
       "Text(0.5, 1.0, 'Learning Curve Part 2 Qsr 4')"
      ]
     },
     "execution_count": 21,
     "metadata": {},
     "output_type": "execute_result"
    },
    {
     "data": {
      "image/png": "[encoded data removed]",
      "text/plain": [
       "<Figure size 1152x648 with 1 Axes>"
      ]
     },
     "metadata": {
      "needs_background": "light"
     },
     "output_type": "display_data"
    }
   ],
   "source": [
    "plt.rcParams[\"figure.figsize\"] = (16, 9)\n",
    "plt.plot(data_set,test)\n",
    "plt.xlabel('Experience', fontsize = 18)\n",
    "plt.ylabel('Test Accuracy', fontsize = 18)\n",
    "plt.title('Learning Curve Part 2 Qsr 4', fontsize = 24)"
   ]
  },
  {
   "cell_type": "markdown",
   "metadata": {},
   "source": [
    "On observation of results from the above graph, we infer that as the data points increase, the test accuracy increases rapidly. At a certain point with numExamples < 10000, where the test accuracy is close to 0.9, we observe a dip in the test accuracy which eventually increases slightly, still being close to the accuracy we had obtained in under 10000 examples trained.\n",
    "This points to the fact that this is a case of overfitting data. "
   ]
  }
 ],
 "metadata": {
  "kernelspec": {
   "display_name": "Python 3",
   "language": "python",
   "name": "python3"
  },
  "language_info": {
   "codemirror_mode": {
    "name": "ipython",
    "version": 3
   },
   "file_extension": ".py",
   "mimetype": "text/x-python",
   "name": "python",
   "nbconvert_exporter": "python",
   "pygments_lexer": "ipython3",
   "version": "3.8.5"
  }
 },
 "nbformat": 4,
 "nbformat_minor": 4
}
